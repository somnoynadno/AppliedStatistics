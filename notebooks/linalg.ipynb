{
 "cells": [
  {
   "cell_type": "code",
   "execution_count": 52,
   "metadata": {},
   "outputs": [],
   "source": [
    "import numpy as np\n",
    "import scipy as sp\n",
    "import matplotlib.pyplot as plt\n",
    "\n",
    "from scipy.linalg import lu"
   ]
  },
  {
   "cell_type": "code",
   "execution_count": 23,
   "metadata": {},
   "outputs": [
    {
     "name": "stdout",
     "output_type": "stream",
     "text": [
      "A =\n",
      " [[ 1 -2  2 -1  1]\n",
      " [ 4 -3  1  2 -1]\n",
      " [-2  2  2 -3  0]\n",
      " [-1 -4  2  0 -4]\n",
      " [-1 -5  4  0  3]]\n",
      "\n",
      "b = [  3  -2  13 -20  -1]\n"
     ]
    }
   ],
   "source": [
    "np.random.seed(42)\n",
    "\n",
    "x = np.array([2, 5, 5, 1, 2]) \n",
    "A0 = np.random.randint(-5, 5, (5,5))\n",
    "\n",
    "print(\"A =\\n\", A)\n",
    "print()\n",
    "\n",
    "b0 = A0 @ x\n",
    "\n",
    "print(\"b =\", b)"
   ]
  },
  {
   "cell_type": "code",
   "execution_count": 38,
   "metadata": {},
   "outputs": [
    {
     "name": "stdout",
     "output_type": "stream",
     "text": [
      "[[ 1.000e+00  0.000e+00  0.000e+00  0.000e+00  0.000e+00]\n",
      " [ 0.000e+00  5.000e+00 -8.882e-16  0.000e+00  0.000e+00]\n",
      " [ 0.000e+00  0.000e+00  3.200e+00  0.000e+00  0.000e+00]\n",
      " [ 0.000e+00  0.000e+00  0.000e+00  2.625e+00  0.000e+00]\n",
      " [ 0.000e+00  0.000e+00  0.000e+00  0.000e+00  1.179e+01]]\n"
     ]
    }
   ],
   "source": [
    "# метод Гаусса\n",
    "\n",
    "A = A0.copy()\n",
    "b = b0.copy()\n",
    "\n",
    "for i in range(b.shape[0]):\n",
    "    k = A[:, i] / A[i, i]\n",
    "    k[i] = 0\n",
    "\n",
    "    A = A - A[i, :] * k[:, None]\n",
    "    b = b - k * b[i]\n",
    "    \n",
    "with np.printoptions(precision=3):\n",
    "    print(A)"
   ]
  },
  {
   "cell_type": "code",
   "execution_count": 46,
   "metadata": {},
   "outputs": [
    {
     "name": "stdout",
     "output_type": "stream",
     "text": [
      "[[0. 0. 0. 1. 0.]\n",
      " [1. 0. 0. 0. 0.]\n",
      " [0. 0. 1. 0. 0.]\n",
      " [0. 0. 0. 0. 1.]\n",
      " [0. 1. 0. 0. 0.]]\n",
      "[[ 1.          0.          0.          0.          0.        ]\n",
      " [-0.25        1.          0.          0.          0.        ]\n",
      " [-0.5        -0.08695652  1.          0.          0.        ]\n",
      " [ 0.25        0.2173913   0.28787879  1.          0.        ]\n",
      " [-0.25        0.82608696 -0.43939394  0.73913043  1.        ]]\n",
      "[[ 4.         -3.          1.          2.         -1.        ]\n",
      " [ 0.         -5.75        4.25        0.5         2.75      ]\n",
      " [ 0.          0.          2.86956522 -1.95652174 -0.26086957]\n",
      " [ 0.          0.          0.         -1.04545455  0.72727273]\n",
      " [ 0.          0.          0.          0.         -7.17391304]]\n"
     ]
    }
   ],
   "source": [
    "P, L, U = lu(A0)\n",
    "print(P)\n",
    "print(L)\n",
    "print(U)"
   ]
  },
  {
   "cell_type": "code",
   "execution_count": 56,
   "metadata": {},
   "outputs": [
    {
     "name": "stdout",
     "output_type": "stream",
     "text": [
      "[[0.1 0.  0.  0.  0. ]\n",
      " [0.  0.1 0.  0.  0. ]\n",
      " [0.  0.  0.1 0.  0. ]\n",
      " [0.  0.  0.  0.1 0. ]\n",
      " [0.  0.  0.  0.  0.1]]\n",
      "[  8.13966619  33.97173145 -17.33001028   8.94715633  28.71864975]\n"
     ]
    }
   ],
   "source": [
    "A = A0.copy()\n",
    "b = b0.copy()\n",
    "x = x.copy()\n",
    "\n",
    "H = np.diag([0.1] * 5)\n",
    "x = np.array([1] * 5).T\n",
    "\n",
    "\n",
    "def f(A, x, b):\n",
    "    return A @ x - b\n",
    "\n",
    "\n",
    "for k in range(10):\n",
    "    x = x - H @ f(A, x, b)\n",
    "    \n",
    "print(x)"
   ]
  }
 ],
 "metadata": {
  "kernelspec": {
   "display_name": "Python 3",
   "language": "python",
   "name": "python3"
  },
  "language_info": {
   "codemirror_mode": {
    "name": "ipython",
    "version": 3
   },
   "file_extension": ".py",
   "mimetype": "text/x-python",
   "name": "python",
   "nbconvert_exporter": "python",
   "pygments_lexer": "ipython3",
   "version": "3.8.5"
  }
 },
 "nbformat": 4,
 "nbformat_minor": 4
}
